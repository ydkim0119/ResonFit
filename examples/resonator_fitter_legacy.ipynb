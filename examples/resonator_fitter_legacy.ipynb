{
 "cells": [
  {
   "cell_type": "markdown",
   "metadata": {},
   "source": [
    "# ResonFit: Legacy Resonator_Fitter Example\n",
    "\n",
    "This notebook demonstrates how to use the original ResonatorFitter class to analyze superconducting resonator S21 data. This approach uses a single comprehensive class rather than the modular approach of the main ResonFit package."
   ]
  },
  {
   "cell_type": "code",
   "execution_count": null,
   "id": "145b2633",
   "metadata": {},
   "outputs": [],
   "source": [
    "import numpy as np\n",
    "import matplotlib.pyplot as plt\n",
    "import sys\n",
    "import os\n",
    "\n",
    "# Add the parent directory to sys.path to import ResonatorFitter\n",
    "# This is only needed for this example - normally you would install the package\n",
    "sys.path.append(os.path.abspath(os.path.join('.', '..')))\n",
    "from resonfit.legacy.resonator_fitter import ResonatorFitter  # Assuming we've moved the original file here"
   ]
  },
  {
   "cell_type": "markdown",
   "metadata": {},
   "source": [
    "## 1. Loading Data\n",
    "\n",
    "First, let's load our S21 data from a CSV file or generate sample data."
   ]
  },
  {
   "cell_type": "code",
   "execution_count": null,
   "id": "data_loading",
   "metadata": {},
   "outputs": [],
   "source": [
    "# File name and cable delay settings\n",
    "filename = \"RES3_70DBM.CSV\"  # Replace with your data file name\n",
    "use_sample_data = True  # Set to False to use your own data file\n",
    "\n",
    "if use_sample_data:\n",
    "    # Generate sample data\n",
    "    def generate_sample_data(noise_level=0.01):\n",
    "        fr = 5e9  # 5 GHz resonance frequency\n",
    "        Ql = 10000  # Loaded quality factor\n",
    "        Qc = 20000  # Coupling quality factor\n",
    "        phi = 0.1  # Impedance mismatch angle\n",
    "        \n",
    "        # Generate frequencies centered around fr\n",
    "        freqs = np.linspace(fr - fr/Ql*5, fr + fr/Ql*5, 401)\n",
    "        \n",
    "        # Delay and background\n",
    "        delay = 50e-9  # 50 ns\n",
    "        a = 0.9\n",
    "        alpha = 0.2\n",
    "        \n",
    "        # Generate ideal S21 data\n",
    "        Qc_complex = Qc * np.exp(-1j * phi)\n",
    "        s21_ideal = 1 - (Ql / Qc_complex) / (1 + 2j * Ql * (freqs - fr) / fr)\n",
    "        \n",
    "        # Add environmental effects\n",
    "        s21_with_env = a * np.exp(1j * alpha) * s21_ideal * np.exp(1j * 2 * np.pi * freqs * delay)\n",
    "        \n",
    "        # Add noise\n",
    "        noise = noise_level * (np.random.randn(len(freqs)) + 1j * np.random.randn(len(freqs)))\n",
    "        s21_noisy = s21_with_env + noise\n",
    "        \n",
    "        return freqs, s21_noisy, {\"fr\": fr, \"Ql\": Ql, \"Qc\": Qc, \"phi\": phi}\n",
    "    \n",
    "    # Generate sample data\n",
    "    freqs, s21, true_params = generate_sample_data(noise_level=0.005)\n",
    "    print(\"Using generated sample data\")\n",
    "else:\n",
    "    # Load S21 data from file\n",
    "    try:\n",
    "        # Adjust skip_header as needed for your CSV file\n",
    "        data = np.genfromtxt(filename, skip_header=3, delimiter=',')\n",
    "        freqs = data[:, 0]\n",
    "        s21 = data[:, 1] + 1j * data[:, 2]\n",
    "        print(f\"Successfully loaded data from {filename}\")\n",
    "    except FileNotFoundError:\n",
    "        print(f\"Error: File '{filename}' not found.\")\n",
    "        sys.exit(1)\n",
    "    except Exception as e:\n",
    "        print(f\"Error reading file '{filename}': {e}\")\n",
    "        sys.exit(1)"
   ]
  },
  {
   "cell_type": "markdown",
   "metadata": {},
   "source": [
    "## 2. Using ResonatorFitter\n",
    "\n",
    "Now let's use the ResonatorFitter class to analyze our data."
   ]
  },
  {
   "cell_type": "code",
   "execution_count": null,
   "id": "fitting_code",
   "metadata": {},
   "outputs": [],
   "source": [
    "# Create ResonatorFitter instance\n",
    "# weight_bandwidth_scale controls how the weights are applied in fitting\n",
    "fitter = ResonatorFitter(freqs, s21, weight_bandwidth_scale=1.0)\n",
    "\n",
    "# Run the full fitting procedure (with plots)\n",
    "final_dcm_params = fitter.full_fit_procedure(plot_all=True, use_dcm_weights=True)"
   ]
  },
  {
   "cell_type": "markdown",
   "metadata": {},
   "source": [
    "## 3. Displaying Results\n",
    "\n",
    "Let's display the final results from our fitting procedure."
   ]
  },
  {
   "cell_type": "code",
   "execution_count": null,
   "id": "display_results",
   "metadata": {},
   "outputs": [],
   "source": [
    "if final_dcm_params:\n",
    "    print(\"\\n--- Final Fitted Parameters ---\")\n",
    "    all_params = fitter.get_parameters()\n",
    "    for key, value in all_params.items():\n",
    "        if isinstance(value, (float, np.floating)):\n",
    "            print(f\"{key}: {value:.4f}\")\n",
    "        else:\n",
    "            print(f\"{key}: {value}\")\n",
    "    \n",
    "    if use_sample_data and 'true_params' in locals():\n",
    "        print(\"\\n--- Comparison with True Values ---\")\n",
    "        print(f\"Resonance Frequency: {true_params['fr']/1e9:.6f} GHz (True) vs {all_params['fr_dcm_GHz']:.6f} GHz (Fitted)\")\n",
    "        print(f\"Internal Quality Factor: {true_params['Qc']/2:.1f} (True, approx) vs {all_params['Qi_dcm']:.1f} (Fitted)\")\n",
    "        print(f\"Coupling Quality Factor: {true_params['Qc']:.1f} (True) vs {all_params['Qc_mag_dcm']:.1f} (Fitted)\")\n",
    "        print(f\"Impedance Mismatch Angle: {true_params['phi']:.4f} rad (True) vs {all_params['phi_dcm_rad']:.4f} rad (Fitted)\")\n",
    "\n",
    "else:\n",
    "    print(\"Fitting procedure failed or did not produce results.\")"
   ]
  },
  {
   "cell_type": "markdown",
   "metadata": {},
   "source": [
    "## 4. Comparison with Modular Approach\n",
    "\n",
    "The original `ResonatorFitter` class combines all functionality in a single class, which was refactored into the modular ResonFit package. The modular approach offers several advantages:\n",
    "\n",
    "1. **Extensibility**: Easily add new preprocessing steps or fitting methods\n",
    "2. **Flexibility**: Mix and match components for different analysis needs\n",
    "3. **Maintainability**: Smaller, focused classes are easier to test and maintain\n",
    "4. **Reusability**: Components can be used independently or together\n",
    "\n",
    "For most new applications, we recommend using the modular approach shown in the `basic_usage.ipynb` example."
   ]
  }
 ],
 "metadata": {
  "kernelspec": {
   "display_name": "Python 3",
   "language": "python",
   "name": "python3"
  },
  "language_info": {
   "codemirror_mode": {
    "name": "ipython",
    "version": 3
   },
   "file_extension": ".py",
   "mimetype": "text/x-python",
   "name": "python",
   "nbconvert_exporter": "python",
   "pygments_lexer": "ipython3",
   "version": "3.8.10"
  }
 },
 "nbformat": 4,
 "nbformat_minor": 5
}