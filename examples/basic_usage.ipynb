{
 "cells": [
  {
   "cell_type": "markdown",
   "metadata": {},
   "source": [
    "# ResonFit: Basic Usage Example\n",
    "\n",
    "This notebook demonstrates how to use the ResonFit package to analyze superconducting resonator S21 data."
   ]
  },
  {
   "cell_type": "code",
   "execution_count": null,
   "metadata": {},
   "outputs": [],
   "source": [
    "import numpy as np\n",
    "import matplotlib.pyplot as plt\n",
    "\n",
    "# Import core ResonFit components\n",
    "from resonfit.core.pipeline import ResonatorPipeline\n",
    "from resonfit.preprocessing import CableDelayCorrector, AmplitudePhaseNormalizer\n",
    "from resonfit.fitting import DCMFitter\n",
    "from resonfit.visualization import ResonancePlotter"
   ]
  },
  {
   "cell_type": "markdown",
   "metadata": {},
   "source": [
    "## 1. Loading Data\n",
    "\n",
    "First, let's load some S21 data. This could be from a CSV file or any other source."
   ]
  },
  {
   "cell_type": "code",
   "execution_count": null,
   "metadata": {},
   "outputs": [],
   "source": [
    "# Example using a CSV file with columns: frequency, real, imaginary\n",
    "def load_data(filename, skip_header=3):\n",
    "    try:\n",
    "        data = np.genfromtxt(filename, skip_header=skip_header, delimiter=',')\n",
    "        freqs = data[:, 0]  # Hz\n",
    "        s21 = data[:, 1] + 1j * data[:, 2]  # Complex S21\n",
    "        return freqs, s21\n",
    "    except Exception as e:\n",
    "        print(f\"Error loading data: {e}\")\n",
    "        return None, None\n",
    "\n",
    "# Load your data here\n",
    "# freqs, s21 = load_data(\"your_data.csv\")\n",
    "\n",
    "# For demonstration purposes, let's generate synthetic data\n",
    "def generate_sample_data(noise_level=0.01):\n",
    "    fr = 5e9  # 5 GHz resonance frequency\n",
    "    Ql = 10000  # Loaded quality factor\n",
    "    Qc = 20000  # Coupling quality factor\n",
    "    phi = 0.1  # Impedance mismatch angle\n",
    "    \n",
    "    # Generate frequencies centered around fr\n",
    "    freqs = np.linspace(fr - fr/Ql*5, fr + fr/Ql*5, 401)\n",
    "    \n",
    "    # Delay and background\n",
    "    delay = 50e-9  # 50 ns\n",
    "    a = 0.9\n",
    "    alpha = 0.2\n",
    "    \n",
    "    # Generate ideal S21 data\n",
    "    Qc_complex = Qc * np.exp(-1j * phi)\n",
    "    s21_ideal = 1 - (Ql / Qc_complex) / (1 + 2j * Ql * (freqs - fr) / fr)\n",
    "    \n",
    "    # Add environmental effects\n",
    "    s21_with_env = a * np.exp(1j * alpha) * s21_ideal * np.exp(1j * 2 * np.pi * freqs * delay)\n",
    "    \n",
    "    # Add noise\n",
    "    noise = noise_level * (np.random.randn(len(freqs)) + 1j * np.random.randn(len(freqs)))\n",
    "    s21_noisy = s21_with_env + noise\n",
    "    \n",
    "    return freqs, s21_noisy, {\"fr\": fr, \"Ql\": Ql, \"Qc\": Qc, \"phi\": phi}\n",
    "\n",
    "# Generate sample data\n",
    "freqs, s21, true_params = generate_sample_data(noise_level=0.005)"
   ]
  },
  {
   "cell_type": "markdown",
   "metadata": {},
   "source": [
    "## 2. Visualizing Raw Data"
   ]
  },
  {
   "cell_type": "code",
   "execution_count": null,
   "metadata": {},
   "outputs": [],
   "source": [
    "# Create a plotter instance\n",
    "plotter = ResonancePlotter()\n",
    "\n",
    "# Plot the raw data\n",
    "plotter.plot_raw_data(freqs, s21, title=\"Sample Resonator Data\");"
   ]
  },
  {
   "cell_type": "markdown",
   "metadata": {},
   "source": [
    "## 3. Setting Up the Analysis Pipeline\n",
    "\n",
    "Now let's set up a pipeline to process our data."
   ]
  },
  {
   "cell_type": "code",
   "execution_count": null,
   "metadata": {},
   "outputs": [],
   "source": [
    "# Create preprocessing components\n",
    "delay_corrector = CableDelayCorrector()\n",
    "normalizer = AmplitudePhaseNormalizer()\n",
    "\n",
    "# Create fitter\n",
    "dcm_fitter = DCMFitter(weight_bandwidth_scale=1.0)\n",
    "\n",
    "# Set up pipeline\n",
    "pipeline = ResonatorPipeline()\n",
    "pipeline.add_preprocessor(delay_corrector)\n",
    "pipeline.add_preprocessor(normalizer)\n",
    "pipeline.set_fitter(dcm_fitter)"
   ]
  },
  {
   "cell_type": "markdown",
   "metadata": {},
   "source": [
    "## 4. Running the Pipeline\n",
    "\n",
    "Now let's run the pipeline to analyze our data."
   ]
  },
  {
   "cell_type": "code",
   "execution_count": null,
   "metadata": {},
   "outputs": [],
   "source": [
    "# Run the pipeline\n",
    "results = pipeline.run(freqs, s21, plot=True)\n",
    "\n",
    "# Print the results\n",
    "print(\"\\nFitting Results:\")\n",
    "print(f\"Resonance Frequency: {results['fr']/1e9:.6f} GHz\")\n",
    "print(f\"Loaded Quality Factor (Ql): {results['Ql']:.1f}\")\n",
    "print(f\"Internal Quality Factor (Qi): {results['Qi']:.1f}\")\n",
    "print(f\"Coupling Quality Factor (|Qc|): {results['Qc_mag']:.1f}\")\n",
    "print(f\"Impedance Mismatch Angle (phi): {results['phi']:.4f} rad\")\n",
    "print(f\"RMSE: {results['rmse']:.3e}\")\n",
    "\n",
    "# Compare with true values if using generated data\n",
    "print(\"\\nComparison with True Values:\")\n",
    "print(f\"Resonance Frequency: {true_params['fr']/1e9:.6f} GHz (True) vs {results['fr']/1e9:.6f} GHz (Fitted)\")\n",
    "print(f\"Loaded Quality Factor: {true_params['Ql']:.1f} (True) vs {results['Ql']:.1f} (Fitted)\")\n",
    "print(f\"Phi: {true_params['phi']:.4f} rad (True) vs {results['phi']:.4f} rad (Fitted)\")"
   ]
  },
  {
   "cell_type": "markdown",
   "metadata": {},
   "source": [
    "## 5. Advanced Visualization\n",
    "\n",
    "Let's use the visualization module to create more detailed plots."
   ]
  },
  {
   "cell_type": "code",
   "execution_count": null,
   "metadata": {},
   "outputs": [],
   "source": [
    "# 수정된 코드 (방법 1: 튜플 언패킹)\n",
    "freqs_delay_corrected, s21_delay_corrected = pipeline.get_intermediate_data(0)\n",
    "freqs_normalized, s21_normalized = pipeline.get_intermediate_data(1)\n",
    "model_data = dcm_fitter.get_model_data()\n",
    "\n",
    "# Plot delay correction\n",
    "optimal_delay = delay_corrector.get_delay()\n",
    "plotter.plot_delay_correction(\n",
    "    freqs, s21, s21_delay_corrected,\n",
    "    delay_ns=optimal_delay*1e9\n",
    ")"
   ]
  },
  {
   "cell_type": "code",
   "execution_count": null,
   "metadata": {},
   "outputs": [],
   "source": [
    "# Plot fitting results\n",
    "plotter.plot_fitting_results(\n",
    "    freqs, s21_normalized, model_data, results['fr'],\n",
    "    title=f\"DCM Fit: Qi={results['Qi']:.1f}, fr={results['fr']/1e9:.6f} GHz\"\n",
    ")"
   ]
  },
  {
   "cell_type": "markdown",
   "metadata": {},
   "source": [
    "## 6. Extracting Q Factors at Different Powers\n",
    "\n",
    "In a real experiment, you'd typically measure the resonator at different power levels to study the power dependence of the internal Q factor. Here's how you would analyze such data:"
   ]
  },
  {
   "cell_type": "code",
   "execution_count": null,
   "metadata": {},
   "outputs": [],
   "source": [
    "# Example: Simulate data at different power levels\n",
    "# This would be replaced with your actual measurements\n",
    "np.random.seed(42)\n",
    "power_levels = np.array([-70, -65, -60, -55, -50, -45, -40])  # dBm\n",
    "# Convert to average photon numbers (arbitrary scaling for example)\n",
    "photon_numbers = 10**(power_levels/10) * 1e-3  \n",
    "\n",
    "# Simulate how Qi might change with power (TLS effects)\n",
    "Qi_values = 1e4 * (1 + photon_numbers/min(photon_numbers))**0.3\n",
    "\n",
    "# Create a list to store results\n",
    "power_sweep_results = []\n",
    "\n",
    "# Process each power level\n",
    "for i, (power, photons, Qi) in enumerate(zip(power_levels, photon_numbers, Qi_values)):\n",
    "    # Generate synthetic data for this power level\n",
    "    _, s21_power, _ = generate_sample_data(noise_level=0.005 * np.sqrt(1/photons))\n",
    "    \n",
    "    # We would replace this with actual measurements at different powers\n",
    "    # E.g., freqs, s21_power = load_data(f\"resonator_data_{power}dBm.csv\")\n",
    "    \n",
    "    # Run the pipeline\n",
    "    results_power = pipeline.run(freqs, s21_power, plot=False)\n",
    "    \n",
    "    # Store results\n",
    "    power_sweep_results.append({\n",
    "        'power_dBm': power,\n",
    "        'photon_number': photons,\n",
    "        'fr': results_power['fr'],\n",
    "        'Qi': results_power['Qi'],\n",
    "        'Ql': results_power['Ql'],\n",
    "        'Qc_mag': results_power['Qc_mag'],\n",
    "        'phi': results_power['phi'],\n",
    "        'rmse': results_power['rmse']\n",
    "    })\n",
    "\n",
    "# Extract data for plotting\n",
    "powers = [r['power_dBm'] for r in power_sweep_results]\n",
    "photons = [r['photon_number'] for r in power_sweep_results]\n",
    "Qis = [r['Qi'] for r in power_sweep_results]\n",
    "frs = [r['fr'] for r in power_sweep_results]\n",
    "\n",
    "# Plot Qi vs photon number\n",
    "plt.figure(figsize=(10, 6))\n",
    "plt.semilogx(photons, Qis, 'o-', markersize=8)\n",
    "plt.xlabel('Average Photon Number')\n",
    "plt.ylabel('Internal Quality Factor (Qi)')\n",
    "plt.title('Power Dependence of Internal Quality Factor')\n",
    "plt.grid(True, alpha=0.3)\n",
    "plt.tight_layout()\n",
    "plt.show()\n",
    "\n",
    "# Print table of results\n",
    "print(\"Power Sweep Results:\")\n",
    "print(\"-\" * 80)\n",
    "print(f\"{'Power (dBm)':12s} {'Photons':12s} {'fr (GHz)':12s} {'Qi':12s} {'Qc':12s} {'phi (rad)':12s}\")\n",
    "print(\"-\" * 80)\n",
    "for r in power_sweep_results:\n",
    "    print(f\"{r['power_dBm']:12.1f} {r['photon_number']:12.1e} {r['fr']/1e9:12.6f} {r['Qi']:12.1f} {r['Qc_mag']:12.1f} {r['phi']:12.4f}\")"
   ]
  },
  {
   "cell_type": "markdown",
   "metadata": {},
   "source": [
    "## 7. Conclusion\n",
    "\n",
    "This basic example demonstrates how to use the ResonFit package to analyze resonator data. The modular design allows for easy customization and extension. For more advanced usage, please refer to the other example notebooks and the API documentation."
   ]
  }
 ],
 "metadata": {
  "kernelspec": {
   "display_name": "resonfit",
   "language": "python",
   "name": "python3"
  },
  "language_info": {
   "codemirror_mode": {
    "name": "ipython",
    "version": 3
   },
   "file_extension": ".py",
   "mimetype": "text/x-python",
   "name": "python",
   "nbconvert_exporter": "python",
   "pygments_lexer": "ipython3",
   "version": "3.13.2"
  }
 },
 "nbformat": 4,
 "nbformat_minor": 4
}
